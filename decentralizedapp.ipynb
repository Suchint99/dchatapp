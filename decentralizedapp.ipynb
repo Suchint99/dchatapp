{
 "cells": [
  {
   "cell_type": "code",
   "execution_count": 1,
   "metadata": {},
   "outputs": [
    {
     "name": "stdout",
     "output_type": "stream",
     "text": [
      "Error: ConnectionError: HTTPConnectionPool(host='127.0.0.1', port=5001): Max retries exceeded with url: /api/v0/version?stream-channels=true (Caused by NewConnectionError('<ipfshttpclient.requests_wrapper.HTTPConnection object at 0x000001FCA5660210>: Failed to establish a new connection: [WinError 10061] No connection could be made because the target machine actively refused it'))\n",
      "File upload failed.\n"
     ]
    }
   ],
   "source": [
    "import ipfshttpclient\n",
    "\n",
    "def upload_to_ipfs(file_path):\n",
    "    try:\n",
    "        client = ipfshttpclient.connect('/ip4/127.0.0.1/tcp/5001/http')\n",
    "        res = client.add(file_path)\n",
    "        return res['Hash']\n",
    "    except Exception as e:\n",
    "        print(f\"Error: {e}\")\n",
    "        return None\n",
    "\n",
    "file_path = 'path_to_your_file.txt'\n",
    "ipfs_hash = upload_to_ipfs(file_path)\n",
    "if ipfs_hash:\n",
    "    print(f\"File uploaded to IPFS with hash: {ipfs_hash}\")\n",
    "else:\n",
    "    print(\"File upload failed.\")\n",
    "\n"
   ]
  },
  {
   "cell_type": "code",
   "execution_count": 2,
   "metadata": {},
   "outputs": [
    {
     "name": "stdout",
     "output_type": "stream",
     "text": [
      "Error: ConnectionError: HTTPConnectionPool(host='127.0.0.1', port=5001): Max retries exceeded with url: /api/v0/version?stream-channels=true (Caused by NewConnectionError('<ipfshttpclient.requests_wrapper.HTTPConnection object at 0x000001FCA5662A50>: Failed to establish a new connection: [WinError 10061] No connection could be made because the target machine actively refused it'))\n"
     ]
    }
   ],
   "source": [
    "import ipfshttpclient\n",
    "\n",
    "def download_from_ipfs(ipfs_hash, output_path):\n",
    "    try:\n",
    "        client = ipfshttpclient.connect('/ip4/127.0.0.1/tcp/5001/http')\n",
    "        client.get(ipfs_hash, output_path)\n",
    "        print(f\"File downloaded and saved to: {output_path}\")\n",
    "    except Exception as e:\n",
    "        print(f\"Error: {e}\")\n",
    "\n",
    "ipfs_hash = 'your_file_hash'\n",
    "output_path = 'path_to_save_file'\n",
    "download_from_ipfs(ipfs_hash, output_path)\n"
   ]
  }
 ],
 "metadata": {
  "kernelspec": {
   "display_name": "Python 3",
   "language": "python",
   "name": "python3"
  },
  "language_info": {
   "codemirror_mode": {
    "name": "ipython",
    "version": 3
   },
   "file_extension": ".py",
   "mimetype": "text/x-python",
   "name": "python",
   "nbconvert_exporter": "python",
   "pygments_lexer": "ipython3",
   "version": "3.11.9"
  }
 },
 "nbformat": 4,
 "nbformat_minor": 2
}
